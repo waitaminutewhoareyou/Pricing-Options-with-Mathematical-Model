{
  "nbformat": 4,
  "nbformat_minor": 0,
  "metadata": {
    "colab": {
      "name": "Problem Set 1.ipynb",
      "provenance": [],
      "authorship_tag": "ABX9TyPyInWZgUOmUrS/NxgS9Nce",
      "include_colab_link": true
    },
    "kernelspec": {
      "name": "python3",
      "display_name": "Python 3"
    },
    "language_info": {
      "name": "python"
    }
  },
  "cells": [
    {
      "cell_type": "markdown",
      "metadata": {
        "id": "view-in-github",
        "colab_type": "text"
      },
      "source": [
        "<a href=\"https://colab.research.google.com/github/waitaminutewhoareyou/Pricing-Options-with-Mathematical-Model/blob/main/Problem_Set_1.ipynb\" target=\"_parent\"><img src=\"https://colab.research.google.com/assets/colab-badge.svg\" alt=\"Open In Colab\"/></a>"
      ]
    },
    {
      "cell_type": "markdown",
      "source": [
        "\n",
        "Question 1\n",
        "\n",
        "A bank offers a 5-year instrument that promises to repay the initial invested amount (with zero interest) if SP 500 index experiences a gain during the 5-year period, and, in addition to that amount, if SP 500 experiences a loss, it promises to pay 80% of the relative return on the invested amount, where the relative return is computed as the absolute value of the percentage loss in SP 500.\n",
        "\n",
        " \n",
        "This contract is equivalent to a position in\n",
        "\n",
        "\n",
        "\n",
        "*   a combination of a bond and a put options because it pays at a fixed rate but also you profit from the drop of the price.\n",
        "\n"
      ],
      "metadata": {
        "id": "LJHRhZKGyX9Y"
      }
    },
    {
      "cell_type": "code",
      "execution_count": 23,
      "metadata": {
        "id": "Y7Ov7BBylz-L"
      },
      "outputs": [],
      "source": [
        "class compute_total_profit:\n",
        "  def __init__(self,\n",
        "               long_short_indicator,\n",
        "               buy_sell_indicator,\n",
        "               num_shares, \n",
        "               forward_price,\n",
        "               num_options,\n",
        "               price_options,\n",
        "               price_at_maturity):\n",
        "    \n",
        "    self.long_short_indicator = long_short_indicator\n",
        "    self.buy_sell_indicator = buy_sell_indicator\n",
        "    self.num_shares = num_shares\n",
        "    self.forward_price = forward_price\n",
        "    self.num_options = num_options\n",
        "    self.price_options = price_options\n",
        "    self.price_at_maturity = price_at_maturity\n",
        "\n",
        "  def profit_from_postions(self):\n",
        "    return self.num_shares * (self.price_at_maturity - self.forward_price) *self.long_short_indicator\n",
        "\n",
        "  def profit_from_single_option(self):\n",
        "    if self.price_at_maturity  > 55:\n",
        "      return self.price_at_maturity - self.price_options\n",
        "\n",
        "    if self.price_at_maturity < 55:\n",
        "      return 50 - self.price_options\n",
        "  \n",
        "  def profit_from_options(self):\n",
        "    return self.buy_sell_indicator * (self.num_options * self.profit_from_single_option())\n",
        "\n",
        "  def compute_total_profit(self):\n",
        "    return self.profit_from_options() + self.profit_from_postions()\n",
        "\n",
        "long_short_indicator = -1\n",
        "buy_sell_indicator = -1\n",
        "num_shares = 8\n",
        "forward_price = 52\n",
        "num_options = 2\n",
        "price_options = 53"
      ]
    },
    {
      "cell_type": "markdown",
      "source": [
        "Question 2\n",
        "\n",
        "At time zero you enter a short position in forward contracts on 8 shares of the stock XYZ at the forward price of 52.00. Moreover, you sell (write) 2 exotic options, with the same maturity as the forward contracts, each of which gives the holder one share of the stock (only) if the price of one share is above 55.00 and which pays the holder 50.00 (only) if the price is below 55.00. The today's selling price of one option of this kind is 53.00. Assume that, after those trades are put in place, the initial capital you have (need) is invested (borrowed) at zero interest rate. In your answer, use minus sign for a loss.\n",
        "\n",
        " \n",
        "Enter your total profit or loss if at maturity the price of one stock share is 58.00:"
      ],
      "metadata": {
        "id": "RS-sOnu7p0F2"
      }
    },
    {
      "cell_type": "code",
      "source": [
        "\n",
        "price_at_maturity = 58\n",
        "\n",
        "calculator = compute_total_profit(long_short_indicator,\n",
        "                                  buy_sell_indicator,\n",
        "                                num_shares, \n",
        "                                forward_price,\n",
        "                                num_options,\n",
        "                                price_options,\n",
        "                                price_at_maturity)\n",
        "\n",
        "calculator.compute_total_profit()"
      ],
      "metadata": {
        "colab": {
          "base_uri": "https://localhost:8080/"
        },
        "id": "GZ_EeOX9pO__",
        "outputId": "0fdd811d-6d08-4c5b-a527-e8209fcb166c"
      },
      "execution_count": 24,
      "outputs": [
        {
          "output_type": "execute_result",
          "data": {
            "text/plain": [
              "-58"
            ]
          },
          "metadata": {},
          "execution_count": 24
        }
      ]
    },
    {
      "cell_type": "markdown",
      "source": [
        "Question 3\n",
        "\n",
        "Continuing the same scenario from Question 2:\n",
        "\n",
        "Enter your total profit or loss if at maturity the price of one stock share is 47.00:"
      ],
      "metadata": {
        "id": "dar78dSAp2S2"
      }
    },
    {
      "cell_type": "code",
      "source": [
        "\n",
        "price_at_maturity = 47\n",
        "\n",
        "calculator = compute_total_profit(long_short_indicator,\n",
        "                                  buy_sell_indicator,\n",
        "                                num_shares, \n",
        "                                forward_price,\n",
        "                                num_options,\n",
        "                                price_options,\n",
        "                                price_at_maturity)\n",
        "\n",
        "calculator.compute_total_profit()"
      ],
      "metadata": {
        "colab": {
          "base_uri": "https://localhost:8080/"
        },
        "id": "M8GRpdm8pta4",
        "outputId": "d2f1a645-667c-41e5-a690-4b7152bcce90"
      },
      "execution_count": 25,
      "outputs": [
        {
          "output_type": "execute_result",
          "data": {
            "text/plain": [
              "46"
            ]
          },
          "metadata": {},
          "execution_count": 25
        }
      ]
    },
    {
      "cell_type": "markdown",
      "source": [
        "\n",
        "\n",
        "Question 4\n",
        "\n",
        "Suppose company A can borrow USD at the rate of 6%, and euros at the rate of 11%. Company B can borrow USD at the rate of 4%, and euros at the rate of 10%. Suppose that company A needs to borrow USD, and company B needs to borrow euros. Suppose company A enters a swap contract with a bank, paying 5% on USD and receiving 11% on euros. Company B enters a swap contract with the bank, receiving 4% on USD and paying 9% on euros. In the following, you may ignore the exchange rate risk and the credit risk. Use the minus sign for losses, and do not write the percentage sign.\n",
        "\n",
        " \n",
        "Enter the expected percentage aggregate gain/loss for all parties:"
      ],
      "metadata": {
        "id": "RHDu9sU2p85u"
      }
    },
    {
      "cell_type": "code",
      "source": [
        "(6-4) - (11-10)"
      ],
      "metadata": {
        "colab": {
          "base_uri": "https://localhost:8080/"
        },
        "id": "-GoZnQAfqRlW",
        "outputId": "09a59a1e-c1e1-4a0c-8e37-df17afb1de3b"
      },
      "execution_count": 7,
      "outputs": [
        {
          "output_type": "execute_result",
          "data": {
            "text/plain": [
              "1"
            ]
          },
          "metadata": {},
          "execution_count": 7
        }
      ]
    },
    {
      "cell_type": "markdown",
      "source": [
        "Question 5\n",
        "\n",
        "Continuing the same scenario from Question 4:\n",
        "\n",
        "Enter the expected percentage aggregate gain/loss for company A:"
      ],
      "metadata": {
        "id": "_LvYoEJ4qO4f"
      }
    },
    {
      "cell_type": "code",
      "source": [
        "(6-5) + (11-11)"
      ],
      "metadata": {
        "colab": {
          "base_uri": "https://localhost:8080/"
        },
        "id": "poFPx3gqqMUH",
        "outputId": "f8b8acdb-b45b-46e8-a14d-b0b4aac59f88"
      },
      "execution_count": 8,
      "outputs": [
        {
          "output_type": "execute_result",
          "data": {
            "text/plain": [
              "1"
            ]
          },
          "metadata": {},
          "execution_count": 8
        }
      ]
    },
    {
      "cell_type": "markdown",
      "source": [
        "Question 6\n",
        "\n",
        "Enter the expected percentage aggregate gain/loss for company B:"
      ],
      "metadata": {
        "id": "f7PDDhKuqhcu"
      }
    },
    {
      "cell_type": "code",
      "source": [
        "(10 - 9) + (4-4)"
      ],
      "metadata": {
        "colab": {
          "base_uri": "https://localhost:8080/"
        },
        "id": "t4GqXt4_p5I-",
        "outputId": "58d49759-ff6d-4c53-c16c-846d0f8fd2db"
      },
      "execution_count": 9,
      "outputs": [
        {
          "output_type": "execute_result",
          "data": {
            "text/plain": [
              "1"
            ]
          },
          "metadata": {},
          "execution_count": 9
        }
      ]
    },
    {
      "cell_type": "markdown",
      "source": [
        "Question 7\n",
        "\n",
        "Continuing the same scenario from Question 4:\n",
        "\n",
        "Enter the expected percentage aggregate gain/loss for the bank:"
      ],
      "metadata": {
        "id": "Nb5zXwIWqpWu"
      }
    },
    {
      "cell_type": "code",
      "source": [
        "# Gain on USD\n",
        "gain_on_usd = 5 - 4\n",
        "gain_on_eur = -11 + 9\n",
        "gain_on_usd + gain_on_eur"
      ],
      "metadata": {
        "colab": {
          "base_uri": "https://localhost:8080/"
        },
        "id": "ERlWLOkSqnfn",
        "outputId": "7449fa7b-d02b-472c-b4a7-a6dd30888405"
      },
      "execution_count": 10,
      "outputs": [
        {
          "output_type": "execute_result",
          "data": {
            "text/plain": [
              "-1"
            ]
          },
          "metadata": {},
          "execution_count": 10
        }
      ]
    },
    {
      "cell_type": "markdown",
      "source": [
        "Question 8\n",
        "\n",
        "Suppose you promised your child a hundred shares of stock A for her eighteenth birthday, one year ahead.\n",
        "\n",
        " \n",
        "Which one of the following you may want to do to hedge this promise?"
      ],
      "metadata": {
        "id": "G8Aog05vrIr9"
      }
    },
    {
      "cell_type": "markdown",
      "source": [
        "Buy call options, in this case the price of the stock A rises in one year (in which case you need to pay more for your child), you can offset this cost with the gain from the call options."
      ],
      "metadata": {
        "id": "SProx0CGrKZ9"
      }
    },
    {
      "cell_type": "markdown",
      "source": [
        "Question 9\n",
        "\n",
        "We want to show that the payoff of one unit of the bear spread can be created from long/short positions in call options. For short positions, use negative numbers. Suppose the bear spread points are K1 and K2, K2>K1, that is, the payoff is zero when the price S of the underlying is below K1, it is K1-K2 when S is above K2, and it is K1 – S for S between K1 and K2.\n",
        "\n",
        " \n",
        "Enter the number of required call options with strike price equal to K1\n",
        "\n",
        "* -1. Recoginize that when S is between K1 and K2, your payoff is K1-S, which means the higher the spot price, the lower your payoff, you must be shorting a call options"
      ],
      "metadata": {
        "id": "9flIBsGgzlrF"
      }
    },
    {
      "cell_type": "markdown",
      "source": [
        "\n",
        "Question 10\n",
        "\n",
        "Continuing the same scenario from Question 9:\n",
        "\n",
        "Enter the number of required call options with strike price equal to K2\n",
        "\n",
        "* 1. The payoff above K2 is given by \n",
        "  payoff from call options with K1 + \n",
        "  payoff from call options with K2 \n",
        "   = (K1 - S) + (S - K2)\n",
        "   = K1 - K2"
      ],
      "metadata": {
        "id": "UUtRJ7vVz2fN"
      }
    },
    {
      "cell_type": "code",
      "source": [
        ""
      ],
      "metadata": {
        "id": "cmM68XDQrEqV"
      },
      "execution_count": null,
      "outputs": []
    }
  ]
}